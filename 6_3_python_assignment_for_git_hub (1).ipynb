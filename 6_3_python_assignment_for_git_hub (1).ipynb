{
  "cells": [
    {
      "cell_type": "markdown",
      "metadata": {
        "id": "l0ZzOlyxB-kf"
      },
      "source": [
        "<h1>Python: without numpy or sklearn </h1>"
      ]
    },
    {
      "cell_type": "markdown",
      "metadata": {
        "id": "C0xO8JV9B-ki"
      },
      "source": [
        "<h3> Q1: Given two matrices please print the product of those two matrices </h3>\n",
        "<pre>\n",
        "\n",
        "Ex 1: A   = [[1 3 4]\n",
        "             [2 5 7]\n",
        "             [5 9 6]]\n",
        "      B   = [[1 0 0]\n",
        "             [0 1 0]\n",
        "             [0 0 1]]\n",
        "      A*B = [[1 3 4]\n",
        "             [2 5 7]\n",
        "             [5 9 6]]\n",
        "\n",
        "     \n",
        "Ex 2: A   = [[1 2]\n",
        "             [3 4]]\n",
        "      B   = [[1 2 3 4 5]\n",
        "             [5 6 7 8 9]]\n",
        "      A*B = [[11 14 17 20 23]\n",
        "             [23 30 37 44 51]]\n",
        "             \n",
        "Ex 3: A   = [[1 2]\n",
        "             [3 4]]\n",
        "      B   = [[1 4]\n",
        "             [5 6]\n",
        "             [7 8]\n",
        "             [9 6]]\n",
        "      A*B =Not possible\n",
        "</pre>"
      ]
    },
    {
      "cell_type": "code",
      "source": [
        "1x = int(input(\"Enter no of rows Matrix1:\"))\n",
        "y = int(input(\"Enter no of columns Matrix1:\"))\n",
        "w = int(input(\"Enter no of rows Matrix2:\"))\n",
        "z = int(input(\"Enter no of columns Matrix2:\"))\n",
        "\n",
        "if y != w:\n",
        "  print(\"This matrix multiplication cannot be done\")\n",
        "else:\n",
        "\n",
        " A = [[int(input()) for i in range(y)] for q in range(x)]\n",
        " print(\"Matrix 1:\")\n",
        " for i in range(x):\n",
        "   for j in range(y):\n",
        "    print(format(A[i][j], \"<3\"), end=\" \")\n",
        "   print()\n",
        "\n",
        " B = [[int(input()) for i in range(z)] for q in range(y)]\n",
        " print(\"Matrix 1:\")\n",
        " for i in range(y):\n",
        "   for j in range(z):\n",
        "     print(format(B[i][j], \"<3\"), end=\" \")\n",
        "   print()\n",
        "\n",
        "\n",
        "\n",
        " r = [[0 for i in range(z)] for j in range(y)]\n",
        " \n",
        " print(\"Matrix :\")\n",
        " for i in range(x):\n",
        "   for j in range(z):\n",
        "     for k in range(y):\n",
        "       r[i][j] += A[i][k] * B[k][j]\n",
        "\n",
        "\n",
        " print(\"result :\")\n",
        " for i in range(x):\n",
        "   for j in range(y):\n",
        "     print(format(r[i][j], \"<3\"), end=\" \")\n",
        "   print()\n",
        "\n"
      ],
      "metadata": {
        "id": "0LuAZNZwueID",
        "colab": {
          "base_uri": "https://localhost:8080/"
        },
        "outputId": "3bdb4b61-cd18-4216-ff55-fb768f0d34d1"
      },
      "execution_count": 2,
      "outputs": [
        {
          "output_type": "stream",
          "name": "stdout",
          "text": [
            "Enter no of rows Matrix1:3\n",
            "Enter no of columns Matrix1:3\n",
            "Enter no of rows Matrix2:3\n",
            "Enter no of columns Matrix2:3\n",
            "1\n",
            "3\n",
            "4\n",
            "2\n",
            "5\n",
            "7\n",
            "5\n",
            "9\n",
            "6\n",
            "Matrix 1:\n",
            "1   3   4   \n",
            "2   5   7   \n",
            "5   9   6   \n",
            "1\n",
            "0\n",
            "0\n",
            "0\n",
            "1\n",
            "0\n",
            "0\n",
            "0\n",
            "1\n",
            "Matrix 1:\n",
            "1   0   0   \n",
            "0   1   0   \n",
            "0   0   1   \n",
            "Matrix :\n",
            "result :\n",
            "1   3   4   \n",
            "2   5   7   \n",
            "5   9   6   \n"
          ]
        }
      ]
    },
    {
      "cell_type": "markdown",
      "metadata": {
        "id": "D1xQy2WWB-kq"
      },
      "source": [
        "<h3> Q2: Replace the digits in the string with #</h3>\n",
        "\n",
        "consider a string that will have digits in that, we need to remove all the not digits and replace the digits with #\n",
        "<pre>\n",
        "Ex 1: A = 234                Output: ###\n",
        "Ex 2: A = a2b3c4             Output: ###\n",
        "Ex 3: A = abc                Output:   (empty string)\n",
        "Ex 5: A = #2a$#b%c%561#      Output: ####\n",
        "</pre>"
      ]
    },
    {
      "cell_type": "code",
      "execution_count": 1,
      "metadata": {
        "id": "fxczi2jzB-kr",
        "colab": {
          "base_uri": "https://localhost:8080/"
        },
        "outputId": "857beef5-3640-4752-ef15-cd72f925299d"
      },
      "outputs": [
        {
          "output_type": "stream",
          "name": "stdout",
          "text": [
            "#2a$#b%c%561# \n",
            "####\n"
          ]
        }
      ],
      "source": [
        "import re\n",
        "# write your python code here\n",
        "# you can take the above example as sample input for your program to test\n",
        "# it should work for any general input try not to hard code for only given input examples\n",
        "# try to complete this question using regular expressions\n",
        "# you can free to change all these codes/structure\n",
        "# String: it will be the input to your program\n",
        "# https://www.w3schools.com/python/python_regex.asp\n",
        "\n",
        "def replace_digits(String):\n",
        "    r=re.sub(\"[^1-9]\", \"\", String)\n",
        "    s=re.sub(\"[^A-z]\", \"#\", r )\n",
        "    print(s) \n",
        "\n",
        "\n",
        "A = input()\n",
        "replace_digits(A)\n"
      ]
    },
    {
      "cell_type": "markdown",
      "metadata": {
        "id": "9OBpURbNB-k9"
      },
      "source": [
        "<h3> Q3: Filling the missing values in the specified formate</h3>\n",
        "You will be given a string with digits and '\\_'(missing value) symbols you have to replace the '\\_' symbols as explained \n",
        "<pre>\n",
        "Ex 1: _, _, _, 24 ==> 24/4, 24/4, 24/4, 24/4 i.e we. have distributed the 24 equally to all 4 places <br>\n",
        "Ex 2: 40, _, _, _, 60 ==> (60+40)/5,(60+40)/5,(60+40)/5,(60+40)/5,(60+40)/5 ==> 20, 20, 20, 20, 20 i.e. the sum of (60+40) is distributed qually to all 5 places<br>\n",
        "Ex 3: 80, _, _, _, _  ==> 80/5,80/5,80/5,80/5,80/5 ==> 16, 16, 16, 16, 16 i.e. the 80 is distributed qually to all 5 missing values that are right to it<br>\n",
        "Ex 4: _, _, 30, _, _, _, 50, _, _  \n",
        "==> we will fill the missing values from left to right \n",
        "    a. first we will distribute the 30 to left two missing values (10, 10, 10, _, _, _, 50, _, _)\n",
        "    b. now distribute the sum (10+50) missing values in between (10, 10, 12, 12, 12, 12, 12, _, _) \n",
        "    c. now we will distribute 12 to right side missing values (10, 10, 12, 12, 12, 12, 4, 4, 4)\n",
        "</pre>\n",
        "for a given string with comma seprate values, which will have both missing values numbers like ex: \"_, _, x, _, _, _\"\n",
        "you need fill the missing values\n",
        "\n",
        "Q: your program reads a string like ex: \"_, _, x, _, _, _\" and returns the filled sequence\n",
        "\n",
        "Ex: \n",
        "<pre>\n",
        "Input1: \"_,_,_,24\"\n",
        "Output1: 6,6,6,6\n",
        "\n",
        "Input2: \"40,_,_,_,60\"\n",
        "Output2: 20,20,20,20,20\n",
        "\n",
        "Input3: \"80,_,_,_,_\"\n",
        "Output3: 16,16,16,16,16\n",
        "\n",
        "Input4: \"_,_,30,_,_,_,50,_,_\"\n",
        "Output4: 10,10,12,12,12,12,4,4,4\n",
        "\n",
        "</pre>\n",
        "\n"
      ]
    },
    {
      "cell_type": "code",
      "execution_count": null,
      "metadata": {
        "id": "nZmpzHs_B-k-"
      },
      "outputs": [],
      "source": [
        "# write your python code here\n",
        "# you can take the above example as sample input for your program to test\n",
        "# it should work for any general input try not to hard code for only given input strings\n",
        "#run your code in the function for each of the inputs mentioned above and make sure that you get the same results\n",
        "\n",
        "# you can free to change all these codes/structure\n",
        "def curve_smoothing(string):\n",
        "    \n",
        "    return #list of values\n",
        "\n"
      ]
    },
    {
      "cell_type": "code",
      "source": [
        "S=  \"_,_,30,_,_,_,50,_,_\"\n",
        "smoothed_values= curve_smoothing(S)\n",
        "print(# print above values)"
      ],
      "metadata": {
        "id": "IIucOsAnkC3X"
      },
      "execution_count": null,
      "outputs": []
    },
    {
      "cell_type": "markdown",
      "metadata": {
        "id": "n4HS87QmB-lF"
      },
      "source": [
        "<h3> Q4: Given two sentances S1, S2</h3>\n",
        "You will be given two sentances S1, S2 your task is to find \n",
        "<pre>\n",
        "a. Number of common words between S1, S2\n",
        "b. Words in S1 but not in S2\n",
        "c. Words in S2 but not in S1\n",
        "</pre>\n",
        "\n",
        "Ex: \n",
        "<pre>\n",
        "S1= \"the first column F will contain only 5 uniques values\"\n",
        "S2= \"the second column S will contain only 3 uniques values\"\n",
        "Output:\n",
        "a. 7\n",
        "b. ['first','F','5']\n",
        "c. ['second','S','3']\n",
        "</pre>"
      ]
    },
    {
      "cell_type": "code",
      "source": [
        "import re\n",
        "S1= \"the first column F will contain only 5 uniques values\"\n",
        "S2= \"the second column S will contain only 3 uniques values\"\n",
        "# a,b,c = string_features(S1, S2)\n",
        "# print(#the above values)\n",
        "S1_words = set(re.split(\"\\s\",S1))\n",
        "S2_words = set(re.split(\"\\s\",S2))\n",
        "X = S1_words & S2_words\n",
        "y = S1_words- S2_words\n",
        "Z = S2_words- set(X)\n",
        "\n",
        "print(len(X))\n",
        "print(list(y))\n",
        "print(list(Z))\n"
      ],
      "metadata": {
        "id": "0vEhNa6UkhCs",
        "colab": {
          "base_uri": "https://localhost:8080/"
        },
        "outputId": "6e65bc38-230f-42af-ce69-a5a499848aad"
      },
      "execution_count": null,
      "outputs": [
        {
          "output_type": "stream",
          "name": "stdout",
          "text": [
            "7\n",
            "['5', 'first', 'F']\n",
            "['S', 'second', '3']\n"
          ]
        }
      ]
    }
  ],
  "metadata": {
    "colab": {
      "provenance": [],
      "toc_visible": true
    },
    "kernelspec": {
      "display_name": "Python 3",
      "language": "python",
      "name": "python3"
    },
    "language_info": {
      "codemirror_mode": {
        "name": "ipython",
        "version": 3
      },
      "file_extension": ".py",
      "mimetype": "text/x-python",
      "name": "python",
      "nbconvert_exporter": "python",
      "pygments_lexer": "ipython3",
      "version": "3.6.3"
    }
  },
  "nbformat": 4,
  "nbformat_minor": 0
}